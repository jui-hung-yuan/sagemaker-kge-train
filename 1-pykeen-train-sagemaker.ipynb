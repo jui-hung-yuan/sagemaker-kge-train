{
 "cells": [
  {
   "cell_type": "markdown",
   "metadata": {},
   "source": [
    "## PyKEEN on Amazon SageMaker (no container)"
   ]
  },
  {
   "cell_type": "code",
   "execution_count": null,
   "metadata": {},
   "outputs": [],
   "source": [
    "# uncomment If you don't have sagemaker python sdk installed\n",
    "# !pip install sagemaker"
   ]
  },
  {
   "cell_type": "code",
   "execution_count": null,
   "metadata": {},
   "outputs": [],
   "source": [
    "# Setup\n",
    "from sagemaker import get_execution_role\n",
    "import sagemaker\n",
    "import json\n",
    "\n",
    "sagemaker_session = sagemaker.Session()\n",
    "\n",
    "# This role retrieves the SageMaker-compatible role used by the notebook instance, \n",
    "# only works if you run this notebook on sagemaker notebook instance\n",
    "# role = get_execution_role()\n",
    "\n",
    "# If you run the notebook locally, specify the SageMaker execution role manually\n",
    "role = 'arn:aws:iam::{}:role/service-role/AmazonSageMaker-ExecutionRole-{}'.format(aws_account_id, execution_role_id)"
   ]
  },
  {
   "cell_type": "code",
   "execution_count": null,
   "metadata": {},
   "outputs": [],
   "source": [
    "print(sagemaker_session.default_bucket())"
   ]
  },
  {
   "cell_type": "markdown",
   "metadata": {},
   "source": [
    "## Train\n",
    "I demonstrate an Pykeen example [`pykeen-vanilla-run.py`] migrated to Amazon SageMaker. First, put the data to Amazon S3. Then, create a [PyTorch estimator](https://sagemaker.readthedocs.io/en/stable/sagemaker.pytorch.html#pytorch-estimator). The training will be invoked by the `fit` method (in parallel here). "
   ]
  },
  {
   "cell_type": "markdown",
   "metadata": {},
   "source": [
    "### Upload pykeen config file to S3"
   ]
  },
  {
   "cell_type": "code",
   "execution_count": null,
   "metadata": {},
   "outputs": [],
   "source": [
    "# specify the location of the training config file in your machine\n",
    "input_subdir = \"input/public-datasets/\"\n",
    "run_config_fname = \"20220903_train_configs_biokg.json\"\n",
    "\n",
    "# alternatively, specify the location of the HyperParameter Optimization (HPO) config file in your machine\n",
    "# run_config_fname = \"20220903_hpo_configs_biokg.json\""
   ]
  },
  {
   "cell_type": "code",
   "execution_count": null,
   "metadata": {},
   "outputs": [],
   "source": [
    "# check the content of the config file\n",
    "with open(input_subdir + run_config_fname) as file:\n",
    "    train_config = json.load(file)\n",
    "print(train_config)"
   ]
  },
  {
   "cell_type": "code",
   "execution_count": null,
   "metadata": {},
   "outputs": [],
   "source": [
    "input_data = sagemaker_session.upload_data(path=input_subdir,\n",
    "            key_prefix='data/pykeen-biokg')\n",
    "print(input_data)"
   ]
  },
  {
   "cell_type": "markdown",
   "metadata": {},
   "source": [
    "### initialize PyTorch estimator and start the training job"
   ]
  },
  {
   "cell_type": "code",
   "execution_count": null,
   "metadata": {},
   "outputs": [],
   "source": [
    "# setup SageMaker PyTorch estimator\n",
    "from sagemaker.pytorch.estimator import PyTorch\n",
    "\n",
    "pytorch_estimator = PyTorch(entry_point='pykeen-vanilla-run.py',\n",
    "                            source_dir=\"src\",\n",
    "                            framework_version='1.10.0', \n",
    "                            py_version='py38', \n",
    "                            role=role,\n",
    "                            max_run=1200, # 172800, \n",
    "                            instance_count=1,\n",
    "                            instance_type= 'ml.g4dn.2xlarge', # alternatively: 'ml.p3.2xlarge'\n",
    "                            hyperparameters={\n",
    "                                # 'data-version': load_data_version, \n",
    "                                'config-fname': run_config_fname, \n",
    "                            })"
   ]
  },
  {
   "cell_type": "code",
   "execution_count": null,
   "metadata": {},
   "outputs": [],
   "source": [
    "pytorch_estimator.fit(input_data)"
   ]
  },
  {
   "cell_type": "code",
   "execution_count": null,
   "metadata": {},
   "outputs": [],
   "source": []
  },
  {
   "cell_type": "code",
   "execution_count": null,
   "metadata": {},
   "outputs": [],
   "source": []
  },
  {
   "cell_type": "code",
   "execution_count": null,
   "metadata": {},
   "outputs": [],
   "source": []
  }
 ],
 "metadata": {
  "instance_type": "ml.t3.medium",
  "kernelspec": {
   "display_name": "Python 3.9.12 ('py39')",
   "language": "python",
   "name": "python3"
  },
  "language_info": {
   "codemirror_mode": {
    "name": "ipython",
    "version": 3
   },
   "file_extension": ".py",
   "mimetype": "text/x-python",
   "name": "python",
   "nbconvert_exporter": "python",
   "pygments_lexer": "ipython3",
   "version": "3.9.12"
  },
  "vscode": {
   "interpreter": {
    "hash": "ebac9d4ee5b9f13f18af07c4bf2e15e33acc8e44b92b7736ad951c765414c046"
   }
  }
 },
 "nbformat": 4,
 "nbformat_minor": 4
}
